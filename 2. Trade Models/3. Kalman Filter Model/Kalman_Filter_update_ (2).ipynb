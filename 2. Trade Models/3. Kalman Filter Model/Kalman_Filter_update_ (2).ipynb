{
  "cells": [
    {
      "cell_type": "code",
      "execution_count": 30,
      "metadata": {
        "id": "O32rS5em4dcy"
      },
      "outputs": [],
      "source": [
        "import pandas as pd\n",
        "import numpy as np\n",
        "#insert selected pairs\n",
        "final_pairs = pd.read_excel(\"final_pairs.xlsx\")\n",
        "#import commod data\n",
        "commod = pd.read_excel(\"commod_data.xlsx\")"
      ]
    },
    {
      "cell_type": "markdown",
      "metadata": {
        "id": "889IFtYGCS9A"
      },
      "source": [
        "# New Section"
      ]
    },
    {
      "cell_type": "code",
      "execution_count": 31,
      "metadata": {
        "colab": {
          "base_uri": "https://localhost:8080/",
          "height": 35
        },
        "id": "e_Q1-NGa5EXy",
        "outputId": "0fb9e49e-6cb8-45aa-98e1-4af79beaf6e7"
      },
      "outputs": [
        {
          "output_type": "execute_result",
          "data": {
            "text/plain": [
              "'EIAEBRT'"
            ],
            "application/vnd.google.colaboratory.intrinsic+json": {
              "type": "string"
            }
          },
          "metadata": {},
          "execution_count": 31
        }
      ],
      "source": [
        "final_pairs['Leg1'][0]"
      ]
    },
    {
      "cell_type": "code",
      "execution_count": 32,
      "metadata": {
        "id": "UMVTlQUy5W2W"
      },
      "outputs": [],
      "source": [
        "commod = commod.set_index(\"Date\")"
      ]
    },
    {
      "cell_type": "code",
      "execution_count": 33,
      "metadata": {
        "id": "70gDs7Lg5fbR"
      },
      "outputs": [],
      "source": [
        "#plot one cointegrated pair\n",
        "stock_EIAEBRT = commod.loc[\"2009-01-01\":\"2017-12-31\"][final_pairs['Leg1'][0]]\n",
        "stock_OILBREN = commod.loc[\"2009-01-01\":\"2017-12-31\"][final_pairs['Leg2'][0]]"
      ]
    },
    {
      "cell_type": "code",
      "execution_count": 34,
      "metadata": {
        "id": "W1jcNPX76hFY"
      },
      "outputs": [],
      "source": [
        "stock_EIAEBRT = commod.loc[\"2009-01-01\":\"2017-12-31\"][final_pairs['Leg1'][1]]\n",
        "stock_EIAUSGJ = commod.loc[\"2009-01-01\":\"2017-12-31\"][final_pairs['Leg2'][1]]"
      ]
    },
    {
      "cell_type": "code",
      "execution_count": 35,
      "metadata": {
        "colab": {
          "base_uri": "https://localhost:8080/",
          "height": 693
        },
        "id": "jbio9jIxTOYp",
        "outputId": "91770907-8fc0-4b2c-f9eb-7000d9c0d277"
      },
      "outputs": [
        {
          "output_type": "execute_result",
          "data": {
            "text/plain": [
              "            CRUDOIL  GOLDBLN  LCPCASH  EIAEBRT  OILBREN  WHEATSF  LAHCASH  \\\n",
              "Date                                                                        \n",
              "2008-08-01   123.26   914.40   8073.0   124.16   123.98     5.83  2884.45   \n",
              "2008-08-04   121.41   906.20   7734.0   121.87   121.63     5.53  2831.00   \n",
              "2008-08-05   119.17   880.40   7768.0   116.50   116.88     5.92  2849.50   \n",
              "2008-08-06   118.58   878.40   7767.0   114.47   114.62     5.83  2855.75   \n",
              "2008-08-07   120.02   872.85   7810.0   116.94   117.00     6.21  2868.25   \n",
              "...             ...      ...      ...      ...      ...      ...      ...   \n",
              "2022-04-25    99.49  1898.40   9783.8    99.27   102.22    10.71  3073.50   \n",
              "2022-04-26   101.70  1905.32   9863.5   102.89   105.08    10.92  3048.60   \n",
              "2022-04-27   102.02  1885.36   9866.5   103.30   105.33    10.90  3080.70   \n",
              "2022-04-28   105.36  1887.25   9696.0   105.78   107.83    10.85  3015.50   \n",
              "2022-04-29   104.69  1908.49   9770.5   108.36   107.83    10.58  3032.50   \n",
              "\n",
              "            LNICASH  CORNUS2  SILVERH  ...     EEXPEAK  ES15PSN  UREAGRN  \\\n",
              "Date                                   ...                                 \n",
              "2008-08-01  18172.0     5.15    17.57  ...  126.982151      NaN      NaN   \n",
              "2008-08-04  17887.0     4.85    17.09  ...  108.001374      NaN      NaN   \n",
              "2008-08-05  17474.0     4.75    16.68  ...  110.651676      NaN      NaN   \n",
              "2008-08-06  17678.0     4.60    16.50  ...  122.037714      NaN      NaN   \n",
              "2008-08-07  18749.0     4.72    16.26  ...  109.358182      NaN      NaN   \n",
              "...             ...      ...      ...  ...         ...      ...      ...   \n",
              "2022-04-25  32607.0     7.79    23.60  ...  241.391126    74.50   859.81   \n",
              "2022-04-26  33055.0     7.79    23.54  ...  254.079155    59.00   859.81   \n",
              "2022-04-27  33281.0     7.92    23.37  ...  232.751367    58.50   859.81   \n",
              "2022-04-28  32932.5     7.92    22.99  ...  238.313580    58.50   752.33   \n",
              "2022-04-29  31722.0     7.95    23.10  ...  239.347617    36.75   752.33   \n",
              "\n",
              "            DAPNOCB  WSUGDLY    WOLAWCE  WSUGDLY.1  PAOLMAL  USTEERS  MILKGDA  \n",
              "Date                                                                           \n",
              "2008-08-01  1195.60      831  804.64320     0.1489   1100.0    96.92   1.4400  \n",
              "2008-08-04  1192.80      831  805.80960     0.1423   1050.0    96.94   1.4400  \n",
              "2008-08-05  1192.80      831  792.33120     0.1476   1000.0    96.94   1.4400  \n",
              "2008-08-06  1192.80      831  785.76480     0.1499   1000.0    97.00   1.4400  \n",
              "2008-08-07  1192.80      831  767.87190     0.1456   1015.0    97.59   1.4400  \n",
              "...             ...      ...        ...        ...      ...      ...      ...  \n",
              "2022-04-25  1047.20      473  976.78985     0.1894   1990.0   143.02   1.7550  \n",
              "2022-04-26  1047.20      473  977.88345     0.1898   1940.0   143.02   1.7075  \n",
              "2022-04-27  1047.20      473  972.87985     0.1897   1940.0   143.02   1.7275  \n",
              "2022-04-28   970.04      480  974.29635     0.1931   2030.0   143.02   1.7400  \n",
              "2022-04-29   970.04      480  978.56505     0.1925   1970.0   143.02   1.7550  \n",
              "\n",
              "[3586 rows x 67 columns]"
            ],
            "text/html": [
              "\n",
              "  <div id=\"df-53d205fe-de57-49f9-83c4-1b9b14f6affa\">\n",
              "    <div class=\"colab-df-container\">\n",
              "      <div>\n",
              "<style scoped>\n",
              "    .dataframe tbody tr th:only-of-type {\n",
              "        vertical-align: middle;\n",
              "    }\n",
              "\n",
              "    .dataframe tbody tr th {\n",
              "        vertical-align: top;\n",
              "    }\n",
              "\n",
              "    .dataframe thead th {\n",
              "        text-align: right;\n",
              "    }\n",
              "</style>\n",
              "<table border=\"1\" class=\"dataframe\">\n",
              "  <thead>\n",
              "    <tr style=\"text-align: right;\">\n",
              "      <th></th>\n",
              "      <th>CRUDOIL</th>\n",
              "      <th>GOLDBLN</th>\n",
              "      <th>LCPCASH</th>\n",
              "      <th>EIAEBRT</th>\n",
              "      <th>OILBREN</th>\n",
              "      <th>WHEATSF</th>\n",
              "      <th>LAHCASH</th>\n",
              "      <th>LNICASH</th>\n",
              "      <th>CORNUS2</th>\n",
              "      <th>SILVERH</th>\n",
              "      <th>...</th>\n",
              "      <th>EEXPEAK</th>\n",
              "      <th>ES15PSN</th>\n",
              "      <th>UREAGRN</th>\n",
              "      <th>DAPNOCB</th>\n",
              "      <th>WSUGDLY</th>\n",
              "      <th>WOLAWCE</th>\n",
              "      <th>WSUGDLY.1</th>\n",
              "      <th>PAOLMAL</th>\n",
              "      <th>USTEERS</th>\n",
              "      <th>MILKGDA</th>\n",
              "    </tr>\n",
              "    <tr>\n",
              "      <th>Date</th>\n",
              "      <th></th>\n",
              "      <th></th>\n",
              "      <th></th>\n",
              "      <th></th>\n",
              "      <th></th>\n",
              "      <th></th>\n",
              "      <th></th>\n",
              "      <th></th>\n",
              "      <th></th>\n",
              "      <th></th>\n",
              "      <th></th>\n",
              "      <th></th>\n",
              "      <th></th>\n",
              "      <th></th>\n",
              "      <th></th>\n",
              "      <th></th>\n",
              "      <th></th>\n",
              "      <th></th>\n",
              "      <th></th>\n",
              "      <th></th>\n",
              "      <th></th>\n",
              "    </tr>\n",
              "  </thead>\n",
              "  <tbody>\n",
              "    <tr>\n",
              "      <th>2008-08-01</th>\n",
              "      <td>123.26</td>\n",
              "      <td>914.40</td>\n",
              "      <td>8073.0</td>\n",
              "      <td>124.16</td>\n",
              "      <td>123.98</td>\n",
              "      <td>5.83</td>\n",
              "      <td>2884.45</td>\n",
              "      <td>18172.0</td>\n",
              "      <td>5.15</td>\n",
              "      <td>17.57</td>\n",
              "      <td>...</td>\n",
              "      <td>126.982151</td>\n",
              "      <td>NaN</td>\n",
              "      <td>NaN</td>\n",
              "      <td>1195.60</td>\n",
              "      <td>831</td>\n",
              "      <td>804.64320</td>\n",
              "      <td>0.1489</td>\n",
              "      <td>1100.0</td>\n",
              "      <td>96.92</td>\n",
              "      <td>1.4400</td>\n",
              "    </tr>\n",
              "    <tr>\n",
              "      <th>2008-08-04</th>\n",
              "      <td>121.41</td>\n",
              "      <td>906.20</td>\n",
              "      <td>7734.0</td>\n",
              "      <td>121.87</td>\n",
              "      <td>121.63</td>\n",
              "      <td>5.53</td>\n",
              "      <td>2831.00</td>\n",
              "      <td>17887.0</td>\n",
              "      <td>4.85</td>\n",
              "      <td>17.09</td>\n",
              "      <td>...</td>\n",
              "      <td>108.001374</td>\n",
              "      <td>NaN</td>\n",
              "      <td>NaN</td>\n",
              "      <td>1192.80</td>\n",
              "      <td>831</td>\n",
              "      <td>805.80960</td>\n",
              "      <td>0.1423</td>\n",
              "      <td>1050.0</td>\n",
              "      <td>96.94</td>\n",
              "      <td>1.4400</td>\n",
              "    </tr>\n",
              "    <tr>\n",
              "      <th>2008-08-05</th>\n",
              "      <td>119.17</td>\n",
              "      <td>880.40</td>\n",
              "      <td>7768.0</td>\n",
              "      <td>116.50</td>\n",
              "      <td>116.88</td>\n",
              "      <td>5.92</td>\n",
              "      <td>2849.50</td>\n",
              "      <td>17474.0</td>\n",
              "      <td>4.75</td>\n",
              "      <td>16.68</td>\n",
              "      <td>...</td>\n",
              "      <td>110.651676</td>\n",
              "      <td>NaN</td>\n",
              "      <td>NaN</td>\n",
              "      <td>1192.80</td>\n",
              "      <td>831</td>\n",
              "      <td>792.33120</td>\n",
              "      <td>0.1476</td>\n",
              "      <td>1000.0</td>\n",
              "      <td>96.94</td>\n",
              "      <td>1.4400</td>\n",
              "    </tr>\n",
              "    <tr>\n",
              "      <th>2008-08-06</th>\n",
              "      <td>118.58</td>\n",
              "      <td>878.40</td>\n",
              "      <td>7767.0</td>\n",
              "      <td>114.47</td>\n",
              "      <td>114.62</td>\n",
              "      <td>5.83</td>\n",
              "      <td>2855.75</td>\n",
              "      <td>17678.0</td>\n",
              "      <td>4.60</td>\n",
              "      <td>16.50</td>\n",
              "      <td>...</td>\n",
              "      <td>122.037714</td>\n",
              "      <td>NaN</td>\n",
              "      <td>NaN</td>\n",
              "      <td>1192.80</td>\n",
              "      <td>831</td>\n",
              "      <td>785.76480</td>\n",
              "      <td>0.1499</td>\n",
              "      <td>1000.0</td>\n",
              "      <td>97.00</td>\n",
              "      <td>1.4400</td>\n",
              "    </tr>\n",
              "    <tr>\n",
              "      <th>2008-08-07</th>\n",
              "      <td>120.02</td>\n",
              "      <td>872.85</td>\n",
              "      <td>7810.0</td>\n",
              "      <td>116.94</td>\n",
              "      <td>117.00</td>\n",
              "      <td>6.21</td>\n",
              "      <td>2868.25</td>\n",
              "      <td>18749.0</td>\n",
              "      <td>4.72</td>\n",
              "      <td>16.26</td>\n",
              "      <td>...</td>\n",
              "      <td>109.358182</td>\n",
              "      <td>NaN</td>\n",
              "      <td>NaN</td>\n",
              "      <td>1192.80</td>\n",
              "      <td>831</td>\n",
              "      <td>767.87190</td>\n",
              "      <td>0.1456</td>\n",
              "      <td>1015.0</td>\n",
              "      <td>97.59</td>\n",
              "      <td>1.4400</td>\n",
              "    </tr>\n",
              "    <tr>\n",
              "      <th>...</th>\n",
              "      <td>...</td>\n",
              "      <td>...</td>\n",
              "      <td>...</td>\n",
              "      <td>...</td>\n",
              "      <td>...</td>\n",
              "      <td>...</td>\n",
              "      <td>...</td>\n",
              "      <td>...</td>\n",
              "      <td>...</td>\n",
              "      <td>...</td>\n",
              "      <td>...</td>\n",
              "      <td>...</td>\n",
              "      <td>...</td>\n",
              "      <td>...</td>\n",
              "      <td>...</td>\n",
              "      <td>...</td>\n",
              "      <td>...</td>\n",
              "      <td>...</td>\n",
              "      <td>...</td>\n",
              "      <td>...</td>\n",
              "      <td>...</td>\n",
              "    </tr>\n",
              "    <tr>\n",
              "      <th>2022-04-25</th>\n",
              "      <td>99.49</td>\n",
              "      <td>1898.40</td>\n",
              "      <td>9783.8</td>\n",
              "      <td>99.27</td>\n",
              "      <td>102.22</td>\n",
              "      <td>10.71</td>\n",
              "      <td>3073.50</td>\n",
              "      <td>32607.0</td>\n",
              "      <td>7.79</td>\n",
              "      <td>23.60</td>\n",
              "      <td>...</td>\n",
              "      <td>241.391126</td>\n",
              "      <td>74.50</td>\n",
              "      <td>859.81</td>\n",
              "      <td>1047.20</td>\n",
              "      <td>473</td>\n",
              "      <td>976.78985</td>\n",
              "      <td>0.1894</td>\n",
              "      <td>1990.0</td>\n",
              "      <td>143.02</td>\n",
              "      <td>1.7550</td>\n",
              "    </tr>\n",
              "    <tr>\n",
              "      <th>2022-04-26</th>\n",
              "      <td>101.70</td>\n",
              "      <td>1905.32</td>\n",
              "      <td>9863.5</td>\n",
              "      <td>102.89</td>\n",
              "      <td>105.08</td>\n",
              "      <td>10.92</td>\n",
              "      <td>3048.60</td>\n",
              "      <td>33055.0</td>\n",
              "      <td>7.79</td>\n",
              "      <td>23.54</td>\n",
              "      <td>...</td>\n",
              "      <td>254.079155</td>\n",
              "      <td>59.00</td>\n",
              "      <td>859.81</td>\n",
              "      <td>1047.20</td>\n",
              "      <td>473</td>\n",
              "      <td>977.88345</td>\n",
              "      <td>0.1898</td>\n",
              "      <td>1940.0</td>\n",
              "      <td>143.02</td>\n",
              "      <td>1.7075</td>\n",
              "    </tr>\n",
              "    <tr>\n",
              "      <th>2022-04-27</th>\n",
              "      <td>102.02</td>\n",
              "      <td>1885.36</td>\n",
              "      <td>9866.5</td>\n",
              "      <td>103.30</td>\n",
              "      <td>105.33</td>\n",
              "      <td>10.90</td>\n",
              "      <td>3080.70</td>\n",
              "      <td>33281.0</td>\n",
              "      <td>7.92</td>\n",
              "      <td>23.37</td>\n",
              "      <td>...</td>\n",
              "      <td>232.751367</td>\n",
              "      <td>58.50</td>\n",
              "      <td>859.81</td>\n",
              "      <td>1047.20</td>\n",
              "      <td>473</td>\n",
              "      <td>972.87985</td>\n",
              "      <td>0.1897</td>\n",
              "      <td>1940.0</td>\n",
              "      <td>143.02</td>\n",
              "      <td>1.7275</td>\n",
              "    </tr>\n",
              "    <tr>\n",
              "      <th>2022-04-28</th>\n",
              "      <td>105.36</td>\n",
              "      <td>1887.25</td>\n",
              "      <td>9696.0</td>\n",
              "      <td>105.78</td>\n",
              "      <td>107.83</td>\n",
              "      <td>10.85</td>\n",
              "      <td>3015.50</td>\n",
              "      <td>32932.5</td>\n",
              "      <td>7.92</td>\n",
              "      <td>22.99</td>\n",
              "      <td>...</td>\n",
              "      <td>238.313580</td>\n",
              "      <td>58.50</td>\n",
              "      <td>752.33</td>\n",
              "      <td>970.04</td>\n",
              "      <td>480</td>\n",
              "      <td>974.29635</td>\n",
              "      <td>0.1931</td>\n",
              "      <td>2030.0</td>\n",
              "      <td>143.02</td>\n",
              "      <td>1.7400</td>\n",
              "    </tr>\n",
              "    <tr>\n",
              "      <th>2022-04-29</th>\n",
              "      <td>104.69</td>\n",
              "      <td>1908.49</td>\n",
              "      <td>9770.5</td>\n",
              "      <td>108.36</td>\n",
              "      <td>107.83</td>\n",
              "      <td>10.58</td>\n",
              "      <td>3032.50</td>\n",
              "      <td>31722.0</td>\n",
              "      <td>7.95</td>\n",
              "      <td>23.10</td>\n",
              "      <td>...</td>\n",
              "      <td>239.347617</td>\n",
              "      <td>36.75</td>\n",
              "      <td>752.33</td>\n",
              "      <td>970.04</td>\n",
              "      <td>480</td>\n",
              "      <td>978.56505</td>\n",
              "      <td>0.1925</td>\n",
              "      <td>1970.0</td>\n",
              "      <td>143.02</td>\n",
              "      <td>1.7550</td>\n",
              "    </tr>\n",
              "  </tbody>\n",
              "</table>\n",
              "<p>3586 rows × 67 columns</p>\n",
              "</div>\n",
              "      <button class=\"colab-df-convert\" onclick=\"convertToInteractive('df-53d205fe-de57-49f9-83c4-1b9b14f6affa')\"\n",
              "              title=\"Convert this dataframe to an interactive table.\"\n",
              "              style=\"display:none;\">\n",
              "        \n",
              "  <svg xmlns=\"http://www.w3.org/2000/svg\" height=\"24px\"viewBox=\"0 0 24 24\"\n",
              "       width=\"24px\">\n",
              "    <path d=\"M0 0h24v24H0V0z\" fill=\"none\"/>\n",
              "    <path d=\"M18.56 5.44l.94 2.06.94-2.06 2.06-.94-2.06-.94-.94-2.06-.94 2.06-2.06.94zm-11 1L8.5 8.5l.94-2.06 2.06-.94-2.06-.94L8.5 2.5l-.94 2.06-2.06.94zm10 10l.94 2.06.94-2.06 2.06-.94-2.06-.94-.94-2.06-.94 2.06-2.06.94z\"/><path d=\"M17.41 7.96l-1.37-1.37c-.4-.4-.92-.59-1.43-.59-.52 0-1.04.2-1.43.59L10.3 9.45l-7.72 7.72c-.78.78-.78 2.05 0 2.83L4 21.41c.39.39.9.59 1.41.59.51 0 1.02-.2 1.41-.59l7.78-7.78 2.81-2.81c.8-.78.8-2.07 0-2.86zM5.41 20L4 18.59l7.72-7.72 1.47 1.35L5.41 20z\"/>\n",
              "  </svg>\n",
              "      </button>\n",
              "      \n",
              "  <style>\n",
              "    .colab-df-container {\n",
              "      display:flex;\n",
              "      flex-wrap:wrap;\n",
              "      gap: 12px;\n",
              "    }\n",
              "\n",
              "    .colab-df-convert {\n",
              "      background-color: #E8F0FE;\n",
              "      border: none;\n",
              "      border-radius: 50%;\n",
              "      cursor: pointer;\n",
              "      display: none;\n",
              "      fill: #1967D2;\n",
              "      height: 32px;\n",
              "      padding: 0 0 0 0;\n",
              "      width: 32px;\n",
              "    }\n",
              "\n",
              "    .colab-df-convert:hover {\n",
              "      background-color: #E2EBFA;\n",
              "      box-shadow: 0px 1px 2px rgba(60, 64, 67, 0.3), 0px 1px 3px 1px rgba(60, 64, 67, 0.15);\n",
              "      fill: #174EA6;\n",
              "    }\n",
              "\n",
              "    [theme=dark] .colab-df-convert {\n",
              "      background-color: #3B4455;\n",
              "      fill: #D2E3FC;\n",
              "    }\n",
              "\n",
              "    [theme=dark] .colab-df-convert:hover {\n",
              "      background-color: #434B5C;\n",
              "      box-shadow: 0px 1px 3px 1px rgba(0, 0, 0, 0.15);\n",
              "      filter: drop-shadow(0px 1px 2px rgba(0, 0, 0, 0.3));\n",
              "      fill: #FFFFFF;\n",
              "    }\n",
              "  </style>\n",
              "\n",
              "      <script>\n",
              "        const buttonEl =\n",
              "          document.querySelector('#df-53d205fe-de57-49f9-83c4-1b9b14f6affa button.colab-df-convert');\n",
              "        buttonEl.style.display =\n",
              "          google.colab.kernel.accessAllowed ? 'block' : 'none';\n",
              "\n",
              "        async function convertToInteractive(key) {\n",
              "          const element = document.querySelector('#df-53d205fe-de57-49f9-83c4-1b9b14f6affa');\n",
              "          const dataTable =\n",
              "            await google.colab.kernel.invokeFunction('convertToInteractive',\n",
              "                                                     [key], {});\n",
              "          if (!dataTable) return;\n",
              "\n",
              "          const docLinkHtml = 'Like what you see? Visit the ' +\n",
              "            '<a target=\"_blank\" href=https://colab.research.google.com/notebooks/data_table.ipynb>data table notebook</a>'\n",
              "            + ' to learn more about interactive tables.';\n",
              "          element.innerHTML = '';\n",
              "          dataTable['output_type'] = 'display_data';\n",
              "          await google.colab.output.renderOutput(dataTable, element);\n",
              "          const docLink = document.createElement('div');\n",
              "          docLink.innerHTML = docLinkHtml;\n",
              "          element.appendChild(docLink);\n",
              "        }\n",
              "      </script>\n",
              "    </div>\n",
              "  </div>\n",
              "  "
            ]
          },
          "metadata": {},
          "execution_count": 35
        }
      ],
      "source": [
        "commod"
      ]
    },
    {
      "cell_type": "code",
      "execution_count": 36,
      "metadata": {
        "id": "Yjj1Oy5L6zWT"
      },
      "outputs": [],
      "source": [
        "import matplotlib.pyplot as plt"
      ]
    },
    {
      "cell_type": "code",
      "execution_count": 37,
      "metadata": {
        "colab": {
          "base_uri": "https://localhost:8080/",
          "height": 326
        },
        "id": "QHHlEkF77Ofs",
        "outputId": "92e193c6-8b92-46f6-bc12-90f8241d6d7f"
      },
      "outputs": [
        {
          "output_type": "display_data",
          "data": {
            "text/plain": [
              "<Figure size 1080x360 with 2 Axes>"
            ],
            "image/png": "[encoded data removed]"
          },
          "metadata": {
            "needs_background": "light"
          }
        }
      ],
      "source": [
        "fig, (ax1, ax2) = plt.subplots(1,2, sharey=False, figsize=(15,5))\n",
        "\n",
        "ax1.set_xlabel(\"EIAEBRT\")\n",
        "ax1.set_ylabel(\"OILBREN\")\n",
        "ax1.scatter(stock_EIAEBRT[0:252],stock_OILBREN[0:252], color='b',\n",
        "label = 'year 2009')\n",
        "ax1.scatter(stock_EIAEBRT[252:504],stock_OILBREN[252:504], color='g',\n",
        "label = 'year 2010')\n",
        "ax1.scatter(stock_EIAEBRT[504:756],stock_OILBREN[504:756], color='r',\n",
        "label = 'year 2011')\n",
        "ax1.scatter(stock_EIAEBRT[756:1008],stock_OILBREN[756:1008], color='c',\n",
        "label = 'year 2012')\n",
        "ax1.scatter(stock_EIAEBRT[1008:1260],stock_OILBREN[1008:1260], color='m',\n",
        "label = 'year 2013')\n",
        "ax1.scatter(stock_EIAEBRT[1260:1512],stock_OILBREN[1260:1512], color='gold',\n",
        "label = 'year 2014')\n",
        "ax1.scatter(stock_EIAEBRT[1512:1764],stock_OILBREN[1512:1764], color='gray',\n",
        "label = 'year 2015')\n",
        "ax1.scatter(stock_EIAEBRT[1764:2016],stock_OILBREN[1764:2016], color='beige',\n",
        "label = 'year 2016')\n",
        "ax1.scatter(stock_EIAEBRT[2016:2268],stock_OILBREN[2016:2268], color='lightcoral',\n",
        "label = 'year 2017')\n",
        "ax1.legend()\n",
        "\n",
        "ax2.set_xlabel(\"EIAEBRT\")\n",
        "ax2.set_ylabel(\"EIAUSGJ\")\n",
        "ax2.scatter(stock_EIAEBRT[0:252],stock_EIAUSGJ[0:252], color='b',\n",
        "label = 'year 2009')\n",
        "ax2.scatter(stock_EIAEBRT[252:504],stock_EIAUSGJ[252:504], color='g',\n",
        "label = 'year 2010')\n",
        "ax2.scatter(stock_EIAEBRT[504:756],stock_EIAUSGJ[504:756], color='r',\n",
        "label = 'year 2011')\n",
        "ax2.scatter(stock_EIAEBRT[756:1008],stock_EIAUSGJ[756:1008], color='c',\n",
        "label = 'year 2012')\n",
        "ax2.scatter(stock_EIAEBRT[1008:1260],stock_EIAUSGJ[1008:1260], color='m',\n",
        "label = 'year 2013')\n",
        "ax2.scatter(stock_EIAEBRT[1260:1512],stock_EIAUSGJ[1260:1512], color='gold',\n",
        "label = 'year 2014')\n",
        "ax2.scatter(stock_EIAEBRT[1512:1764],stock_EIAUSGJ[1512:1764], color='gray',\n",
        "label = 'year 2015')\n",
        "ax2.scatter(stock_EIAEBRT[1764:2016],stock_EIAUSGJ[1764:2016], color='beige',\n",
        "label = 'year 2016')\n",
        "ax2.scatter(stock_EIAEBRT[2016:2268],stock_EIAUSGJ[2016:2268], color='lightcoral',\n",
        "label = 'year 2017')\n",
        "\n",
        "ax2.legend()\n",
        "\n",
        "plt.show()\n",
        "\n",
        "\n"
      ]
    },
    {
      "cell_type": "code",
      "execution_count": 38,
      "metadata": {
        "colab": {
          "base_uri": "https://localhost:8080/"
        },
        "id": "CQL_AmUVB7uA",
        "outputId": "9ac7c58e-768d-4304-87d3-4f3b4fc0c2b5"
      },
      "outputs": [
        {
          "output_type": "stream",
          "name": "stdout",
          "text": [
            "Looking in indexes: https://pypi.org/simple, https://us-python.pkg.dev/colab-wheels/public/simple/\n",
            "Requirement already satisfied: pykalman in /usr/local/lib/python3.7/dist-packages (0.9.5)\n"
          ]
        }
      ],
      "source": [
        "!pip install pykalman"
      ]
    },
    {
      "cell_type": "code",
      "execution_count": 39,
      "metadata": {
        "id": "HdyTkf1mB6Jd"
      },
      "outputs": [],
      "source": [
        "from pykalman import KalmanFilter"
      ]
    },
    {
      "cell_type": "code",
      "execution_count": 40,
      "metadata": {
        "id": "FZW3Cnek71JD"
      },
      "outputs": [],
      "source": [
        "#Kalman Filter Regression\n",
        "obs_mat = np.vstack([stock_EIAEBRT,np.ones(stock_EIAEBRT.shape)]).T[:, np.newaxis]\n",
        "delta = 1e-5\n",
        "trans_cov = delta / (1 - delta) * np.eye(2)"
      ]
    },
    {
      "cell_type": "code",
      "execution_count": 41,
      "metadata": {
        "id": "4PBy0gW7B0sr"
      },
      "outputs": [],
      "source": [
        "kf = KalmanFilter(n_dim_obs=1, n_dim_state=2,\n",
        "initial_state_mean=np.zeros(2),\n",
        "initial_state_covariance=np.ones((2, 2)),\n",
        "transition_matrices=np.eye(2),\n",
        "observation_matrices=obs_mat,\n",
        "observation_covariance=1.0,\n",
        "transition_covariance=trans_cov)\n",
        "state_means, state_covs = kf.filter(stock_EIAUSGJ)"
      ]
    },
    {
      "cell_type": "code",
      "execution_count": 42,
      "metadata": {
        "colab": {
          "base_uri": "https://localhost:8080/",
          "height": 513
        },
        "id": "b9zCqRZ074mc",
        "outputId": "944f8bb8-53f8-4394-b28d-90de567036e0"
      },
      "outputs": [
        {
          "output_type": "display_data",
          "data": {
            "text/plain": [
              "<Figure size 720x576 with 2 Axes>"
            ],
            "image/png": "[encoded data removed]"
          },
          "metadata": {
            "needs_background": "light"
          }
        }
      ],
      "source": [
        "#plot Kalman Filter coefficient\n",
        "fig, (ax1, ax2) = plt.subplots(2,1, sharex=False,figsize=(10,8))\n",
        "#'plot kalman OLS coefficients: slope'\n",
        "ax1.set_title('Kalman OLS Slope')\n",
        "ax1.set_xlabel('Days')\n",
        "ax1.plot(state_means[:,0], label = 'Slope')\n",
        "ax1.legend()\n",
        "\n",
        "'plot kalman OLS coefficients: intercept'\n",
        "ax2.set_title('Kalman OLS Intercept')\n",
        "ax2.set_xlabel('Days')\n",
        "ax2.plot(state_means[:,1], label = 'Intercept')\n",
        "ax2.legend()\n",
        "\n",
        "plt.subplots_adjust(wspace = 1, hspace=0.4)\n",
        "plt.show()\n"
      ]
    },
    {
      "cell_type": "code",
      "execution_count": 43,
      "metadata": {
        "id": "z9VQ2j6RDEX1"
      },
      "outputs": [],
      "source": [
        "# a is an array of a vector of data\n",
        "# t is the looking back period\n",
        "def MVaverage(a, t):\n",
        "    i = np.size(a)\n",
        "    j = 0\n",
        "    mv_t = np.zeros(i-t+1) # moving average of data interval with period t\n",
        "    std_t = np.zeros(i-t+1) # std of data interval with period t\n",
        "    while i>(t-1):\n",
        "        mv_t[j] = np.mean(a[j:(j+t)])\n",
        "        std_t[j] = np.std(a[j:(j+t)])\n",
        "        j += 1\n",
        "        i -= 1\n",
        "    return mv_t, std_t"
      ]
    },
    {
      "cell_type": "code",
      "execution_count": 44,
      "metadata": {
        "id": "NTGMgRPeEAZj"
      },
      "outputs": [],
      "source": [
        "# a is an array of a vector of data\n",
        "# t is the looking back period\n",
        "# const is the number of std away from the moving average\n",
        "def BBand(a, t, const):\n",
        "    BollingerBand = []\n",
        "    mv, std = MVaverage(a, t)\n",
        "    LowerBand = np.subtract(mv, const*std)\n",
        "    UpperBand = np.add(mv, const*std)\n",
        "    BollingerBand.append([LowerBand, UpperBand])\n",
        "    return mv, BollingerBand"
      ]
    },
    {
      "cell_type": "code",
      "execution_count": 45,
      "metadata": {
        "id": "nPlTCQWhEAXG"
      },
      "outputs": [],
      "source": [
        "# ret_cum also can be portfolio position series\n",
        "def MaxDrawdown(Ret_Cum):\n",
        "    ContVal = np.zeros(np.size(Ret_Cum))\n",
        "    MaxDD = np.zeros(np.size(Ret_Cum))\n",
        "    for i in range(np.size(Ret_Cum)):\n",
        "        if i == 0:\n",
        "            if Ret_Cum[i] < 0:\n",
        "                ContVal[i] = Ret_Cum[i]\n",
        "            else:\n",
        "                ContVal[i] = 0\n",
        "        else:\n",
        "            ContVal[i] = Ret_Cum[i] - np.max(Ret_Cum[0:(i+1)])\n",
        "        MaxDD[i] = np.min(ContVal[0:(i+1)])\n",
        "    return MaxDD"
      ]
    },
    {
      "cell_type": "code",
      "execution_count": 46,
      "metadata": {
        "id": "oNDCu-jCJ69E"
      },
      "outputs": [],
      "source": [
        "import statsmodels.api as sm"
      ]
    },
    {
      "cell_type": "code",
      "execution_count": 47,
      "metadata": {
        "id": "4P291ENrEAUO"
      },
      "outputs": [],
      "source": [
        "# a is an array of a vector of data\n",
        "# t is the looking back period\n",
        "# const is the number of std away from the moving average\n",
        "# stop_loss: amount of loss we take (eg. 0.2*capital)\n",
        "# KalmanFilter: True or False, whether use Kalman Filter, default is False\n",
        "def BBTrading(capital, stock_1, stock_2, t, const, stop_loss, KF):\n",
        "    if KF==True:\n",
        "        obs_mat = np.vstack([stock_2,np.ones(stock_2.shape)]).T[:, np.newaxis]\n",
        "        delta = 1e-5\n",
        "        trans_cov = delta / (1 - delta) * np.eye(2)\n",
        "        kf = KalmanFilter(n_dim_obs=1, n_dim_state=2,\n",
        "                          initial_state_mean=np.zeros(2),\n",
        "                          initial_state_covariance=np.ones((2, 2)),\n",
        "                          transition_matrices=np.eye(2),\n",
        "                          observation_matrices=obs_mat,\n",
        "                          observation_covariance=1.0,\n",
        "                          transition_covariance=trans_cov)\n",
        "        state_means, state_covs = kf.filter(stock_1)\n",
        "        'generate spread based on kalman OLS'\n",
        "        spread_k = np.zeros(np.size(stock_1))\n",
        "        for i in range(np.size(spread_k)):\n",
        "            spread_k[i] = stock_1[i] - state_means[i,0]*stock_2[i] - state_means[i,1]\n",
        "        a = pd.Series(spread_k)\n",
        "    else:\n",
        "        results = sm.OLS(stock_1, stock_2).fit()\n",
        "        predict = results.predict(stock_2)\n",
        "        a = np.subtract(stock_1, predict)\n",
        "        \n",
        "    mv, BB = BBand(a, t, const) # moving average and bollinger band\n",
        "    m = np.size(mv)\n",
        "    Entry = np.zeros(m-1) # entry signal\n",
        "    Holding = np.zeros(m) # holding state\n",
        "    PL_Holding = np.zeros(m-1) # holding return\n",
        "    PL_Cum = np.zeros(m-1) # cumulative return of trading strategy\n",
        "       \n",
        "    'produce entry signal'\n",
        "    for i in range(m-1):\n",
        "        if i == 0:\n",
        "            if a[i+t]<BB[0][0][i+1] and a[i+t-1]>BB[0][0][i]:\n",
        "                Entry[i] = 1\n",
        "            else:\n",
        "                Entry[i] = 0\n",
        "        else:\n",
        "            if a[i+t]<BB[0][0][i+1] and a[i+t-1]>BB[0][0][i]:\n",
        "                Entry[i] = 1\n",
        "            else:\n",
        "                if a[i+t]>BB[0][0][i+1] and a[i+t-1]<BB[0][0][i]:\n",
        "                    Entry[i] = -1\n",
        "                else:\n",
        "                    Entry[i] = 0\n",
        "    'holding decision'\n",
        "    for i in range(1,m,1):\n",
        "        if Entry[i-1]==0:\n",
        "            Holding[i] = Holding[i-1]\n",
        "        else:\n",
        "            if Entry[i-1] + Holding[i-1] == 0:\n",
        "                Holding[i]=0\n",
        "            else:\n",
        "                if np.abs(Entry[i-1]+Holding[i-1])==1:\n",
        "                    Holding[i] = Entry[i-1] + Holding[i-1]\n",
        "                else:\n",
        "                    Holding[i] = Holding[i-1]\n",
        "\n",
        "    PL_Holding = np.multiply(Holding[1:], a[(t):])*(-1) * (capital/stock_1[t])\n",
        "    PL_Holding.index = range(np.size(PL_Holding))\n",
        "    commission = Entry * (4.95 + 0.0001 * capital)*2\n",
        "    PL_Holding = PL_Holding - commission\n",
        "    \n",
        "    'Calculate cumulative P/L'\n",
        "    for i in range(np.size(PL_Holding)):\n",
        "        if i ==0:\n",
        "            PL_Cum[i] = PL_Holding[0]\n",
        "        else:\n",
        "            PL_Cum[i] = PL_Cum[i-1] + PL_Holding[i]\n",
        "    if np.min(PL_Cum) < (-stop_loss * capital):\n",
        "        po = np.min(np.where(PL_Cum < (-stop_loss*capital)))\n",
        "        PL_Cum[po:] = PL_Cum[po]\n",
        "        \n",
        "    po = np.where(PL_Cum < (stop_loss*capital))\n",
        "        \n",
        "    'calculate maximum drawdown'\n",
        "    MaxDD = MaxDrawdown(PL_Cum)\n",
        "    results = []\n",
        "    results.append([a, Entry, Holding, PL_Holding, PL_Cum, MaxDD])\n",
        "    return results\n",
        "\n"
      ]
    },
    {
      "cell_type": "code",
      "execution_count": 48,
      "metadata": {
        "id": "cUhRn6IPEAOx"
      },
      "outputs": [],
      "source": [
        "def Portfolio(capital, clustered_series, significance, coint_start_day,\n",
        "              coint_end_day, t, const, stop_loss, rolling_days, KF, E_selection):\n",
        "    end_day_index = Price.index.get_loc(coint_end_day)\n",
        "    num = np.size(Price.index)\n",
        "    \n",
        "    PL_daily_portfolio = []\n",
        "    PL_cum_portfolio = []\n",
        "    \n",
        "    while(end_day_index < num):\n",
        "        Opt_pairs = PairSelection(clustered_series, significance,\n",
        "                              coint_start_day, coint_end_day, E_selection)\n",
        "        num_pairs = len(Opt_pairs) # count pairs\n",
        "        # start date of testing period\n",
        "        start_day = Price.index[end_day_index -t]\n",
        "        if (end_day_index + rolling_days) < num:\n",
        "            end_day = Price.index[end_day_index + rolling_days] # rolling day is 126\n",
        "        else:\n",
        "            end_day = Price.index[num-1]\n",
        "        \n",
        "        PL_daily_ContVal = [] # save each pair's daily P/L\n",
        "        \n",
        "        for i in range(num_pairs):\n",
        "            stock_1 = Price.loc[start_day:end_day, Opt_pairs[i][0]]\n",
        "            stock_2 = Price.loc[start_day:end_day:, Opt_pairs[i][1]]\n",
        "            each_pair = BBTrading(capital, stock_1, stock_2, t, const, stop_loss, KF)\n",
        "            PL_daily_ContVal.append(each_pair[0][3])\n",
        "        \n",
        "        PL_daily_portfolio.append(np.sum(PL_daily_ContVal, axis=0))\n",
        "\n",
        "        coint_start_day = Price.index[Price.index.get_loc(coint_start_day) + rolling_days]\n",
        "        coint_end_day_index = Price.index.get_loc(coint_end_day) +rolling_days\n",
        "        if coint_end_day_index < num:\n",
        "            coint_end_day = Price.index[coint_end_day_index]\n",
        "            end_day_index = coint_end_day_index\n",
        "        else:\n",
        "            end_day_index = coint_end_day_index\n",
        "            \n",
        "        PL_daily_portfolio = list(itertools.chain.from_iterable(PL_daily_portfolio))\n",
        "        PL_cum_portfolio = np.zeros(np.size(PL_daily_portfolio))\n",
        "        for i in range(np.size(PL_daily_portfolio)):\n",
        "            if i==0:\n",
        "                PL_cum_portfolio[i] = PL_daily_portfolio[i]\n",
        "            else:\n",
        "                PL_cum_portfolio[i] = PL_cum_portfolio[i-1] + PL_daily_portfolio[i]\n",
        "        \n",
        "        maxdd_portfolio = MaxDrawdown(PL_cum_portfolio)\n",
        "        \n",
        "        return PL_daily_portfolio, PL_cum_portfolio, maxdd_portfolio, num_pairs"
      ]
    },
    {
      "cell_type": "code",
      "execution_count": 48,
      "metadata": {
        "id": "TemN2uFDXJzf"
      },
      "outputs": [],
      "source": [
        ""
      ]
    },
    {
      "cell_type": "code",
      "execution_count": 49,
      "metadata": {
        "colab": {
          "base_uri": "https://localhost:8080/"
        },
        "id": "CniGb74lXJvu",
        "outputId": "13b73f1f-546c-42b1-86cb-1a07e47a7f82"
      },
      "outputs": [
        {
          "output_type": "execute_result",
          "data": {
            "text/plain": [
              "22"
            ]
          },
          "metadata": {},
          "execution_count": 49
        }
      ],
      "source": [
        "len(final_pairs)"
      ]
    },
    {
      "cell_type": "code",
      "execution_count": 49,
      "metadata": {
        "id": "euD8HafrVbOI"
      },
      "outputs": [],
      "source": [
        ""
      ]
    },
    {
      "cell_type": "code",
      "execution_count": 50,
      "metadata": {
        "id": "CDDph4vJEAL_"
      },
      "outputs": [],
      "source": [
        "\n",
        "stock_EIAEBRT = commod.loc[\"2018-01-01\":\"2022-04-29\"][final_pairs['Leg1'][19]]\n",
        "stock_OILBREN = commod.loc[\"2018-01-01\":\"2022-04-29\"][final_pairs['Leg2'][19]]\n",
        "t = 125\n",
        "const = 1.5\n",
        "stop_loss = 0.1\n",
        "capital = 1000000\n",
        "test_pair_T = BBTrading(capital, stock_EIAEBRT, stock_OILBREN, t, const, stop_loss, KF=True)\n",
        "test_pair_F = BBTrading(capital, stock_EIAEBRT, stock_OILBREN, t, const, stop_loss, KF=False)\n"
      ]
    },
    {
      "cell_type": "code",
      "execution_count": 51,
      "metadata": {
        "colab": {
          "base_uri": "https://localhost:8080/",
          "height": 338
        },
        "id": "9anUm5kbEAH7",
        "outputId": "1c51c7a8-dfe8-42a5-af7d-9001fd49b331"
      },
      "outputs": [
        {
          "output_type": "display_data",
          "data": {
            "text/plain": [
              "<Figure size 1080x360 with 2 Axes>"
            ],
            "image/png": "[encoded data removed]"
          },
          "metadata": {
            "needs_background": "light"
          }
        }
      ],
      "source": [
        "fig, (ax1, ax2) = plt.subplots(1,2, sharey=False, figsize=(15,5))\n",
        "ax1.set_title(\"Trading Performance with Kalman Filter\")\n",
        "ax1.set_xlabel(\"Date\")\n",
        "ax1.set_ylabel(\"P/L\")\n",
        "ax1.plot(test_pair_T[0][4], label=\"Cumulative P/L\")\n",
        "ax1.plot(test_pair_T[0][5], label=\"Maximum Drawdown\")\n",
        "ax1.legend()\n",
        "\n",
        "ax2.set_title(\"Trading Performance without Kalman Filter\")\n",
        "ax2.set_xlabel(\"Date\")\n",
        "ax2.set_ylabel(\"P/L\")\n",
        "ax2.plot(test_pair_F[0][4], label=\"Cumulative P/L\")\n",
        "ax2.plot(test_pair_F[0][5], label=\"Maximum Drawdown\")\n",
        "ax2.legend()\n",
        "\n",
        "plt.show()"
      ]
    },
    {
      "cell_type": "code",
      "execution_count": 52,
      "metadata": {
        "id": "ELyfIj5fkJh3"
      },
      "outputs": [],
      "source": [
        "import itertools"
      ]
    },
    {
      "cell_type": "code",
      "execution_count": 77,
      "metadata": {
        "colab": {
          "base_uri": "https://localhost:8080/",
          "height": 339
        },
        "id": "qLCf556Em2IT",
        "outputId": "62f98e30-91c9-462c-8c3c-3e167a34bcc3"
      },
      "outputs": [
        {
          "output_type": "display_data",
          "data": {
            "text/plain": [
              "<Figure size 1080x360 with 2 Axes>"
            ],
            "image/png": "[encoded data removed]"
          },
          "metadata": {
            "needs_background": "light"
          }
        }
      ],
      "source": [
        "\n",
        "t = 126\n",
        "const = 1.5\n",
        "stop_loss = 0.05\n",
        "capital = 1000000\n",
        "\n",
        "PL_daily_portfolio=[]\n",
        "\n",
        "PL_daily_ContVal =[]\n",
        "for i in range(len(final_pairs)):\n",
        "  stock_1 = commod.loc[\"2018-01-01\":\"2022-04-29\"][final_pairs['Leg1'][i]]\n",
        "  stock_2 = commod.loc[\"2018-01-01\":\"2022-04-29\"][final_pairs['Leg2'][i]]\n",
        "  each_pair = BBTrading(capital, stock_1, stock_2, t, const, stop_loss, KF=False)\n",
        "  PL_daily_ContVal.append(each_pair[0][3])\n",
        "PL_daily_portfolio.append(np.sum(PL_daily_ContVal, axis=0))\n",
        "\n",
        "PL_daily_portfolio = list(itertools.chain.from_iterable(PL_daily_portfolio))\n",
        "PL_cum_portfolio = np.zeros(np.size(PL_daily_portfolio))\n",
        "\n",
        "for i in range(np.size(PL_daily_portfolio)):\n",
        "  if i==0:\n",
        "    PL_cum_portfolio[i] = PL_daily_portfolio[i]\n",
        "  else:\n",
        "    PL_cum_portfolio[i] = PL_cum_portfolio[i-1] + PL_daily_portfolio[i]\n",
        "maxdd_portfolio = MaxDrawdown(PL_cum_portfolio)\n",
        "\n",
        "PL_daily_portfolio_F=[]\n",
        "PL_daily_ContVal_F =[]\n",
        "for i in range(len(final_pairs)):\n",
        "  stock_1 = commod.loc[\"2018-01-01\":\"2022-04-29\"][final_pairs['Leg1'][i]]\n",
        "  stock_2 = commod.loc[\"2018-01-01\":\"2022-04-29\"][final_pairs['Leg2'][i]]\n",
        "  each_pair = BBTrading(capital, stock_1, stock_2, t, const, stop_loss, KF=True)\n",
        "  PL_daily_ContVal_F.append(each_pair[0][3])\n",
        "PL_daily_portfolio_F.append(np.sum(PL_daily_ContVal_F, axis=0))\n",
        "PL_daily_portfolio_F = list(itertools.chain.from_iterable(PL_daily_portfolio_F))\n",
        "PL_cum_portfolio_F = np.zeros(np.size(PL_daily_portfolio_F))\n",
        "\n",
        "for i in range(np.size(PL_daily_portfolio_F)):\n",
        "  if i==0:\n",
        "    PL_cum_portfolio_F[i] = PL_daily_portfolio_F[i]\n",
        "  else:\n",
        "    PL_cum_portfolio_F[i] = PL_cum_portfolio_F[i-1] + PL_daily_portfolio_F[i]\n",
        "maxdd_portfolio_F = MaxDrawdown(PL_cum_portfolio_F)\n",
        "\n",
        "\n",
        "fig, (ax1, ax2) = plt.subplots(1,2, sharey=False, figsize=(15,5))\n",
        "ax1.set_title(\"Portfolio Performance with Kalman Filter\")\n",
        "ax1.set_xlabel(\"Date\")\n",
        "ax1.set_ylabel(\"Cumulative Return\")\n",
        "ax1.plot(PL_cum_portfolio_F/(capital*22), label=\"Cumulative P/L\")\n",
        "ax1.plot(maxdd_portfolio_F/(capital*22), label=\"Maximum Drawdown\")\n",
        "\n",
        "ax1.legend()\n",
        "\n",
        "ax2.set_title(\"Portfolio Performance without Kalman Filter\")\n",
        "ax2.set_xlabel(\"Date\")\n",
        "ax2.set_ylabel(\"Cumulative Return\")\n",
        "ax2.plot(PL_cum_portfolio/(capital*22), label=\"Cumulative P/L\")\n",
        "ax2.plot(maxdd_portfolio/(capital*22), label=\"Maximum Drawdown\")\n",
        "\n",
        "ax2.legend()\n",
        "\n",
        "plt.show()"
      ]
    },
    {
      "cell_type": "code",
      "source": [
        "print(\"Portfolio without Kalman Filter, total return: \", PL_cum_portfolio[-1]/(capital*22))\n",
        "print(\"Portfolio without Kalman Filter, sharp ratio:\", np.nanmean(PL_daily_portfolio)/np.nanstd(PL_daily_portfolio))\n",
        "print(\"Portfolio with Kalman Filter, total return: \", PL_cum_portfolio_F[-1]/(capital*22))\n",
        "print(\"Portfolio with Kalman Filter, sharp ratio:\", np.nanmean(PL_daily_portfolio_F)/np.nanstd(PL_daily_portfolio_F))"
      ],
      "metadata": {
        "colab": {
          "base_uri": "https://localhost:8080/"
        },
        "id": "s0C5qlr9F5SZ",
        "outputId": "a4cb80f0-266e-4660-d56b-c3037cf4e530"
      },
      "execution_count": 78,
      "outputs": [
        {
          "output_type": "stream",
          "name": "stdout",
          "text": [
            "Portfolio without Kalman Filter, total return:  11.83434725378768\n",
            "Portfolio without Kalman Filter, sharp ratio: 0.2699865505345813\n",
            "Portfolio with Kalman Filter, total return:  11.124588232357393\n",
            "Portfolio with Kalman Filter, sharp ratio: 0.44503192298307803\n"
          ]
        }
      ]
    },
    {
      "cell_type": "code",
      "source": [
        "print(\"Portfolio with Kalman Filter, Calmar ratio:\", np.nanmean(PL_daily_portfolio_F)/abs(maxdd_portfolio_F[-1]))"
      ],
      "metadata": {
        "colab": {
          "base_uri": "https://localhost:8080/"
        },
        "id": "10BBYB0kINBD",
        "outputId": "ab617956-dc4c-4624-dc3f-a3916e0c12d8"
      },
      "execution_count": 96,
      "outputs": [
        {
          "output_type": "stream",
          "name": "stdout",
          "text": [
            "Portfolio with Kalman Filter, sharp ratio: 0.047713346947816725\n"
          ]
        }
      ]
    },
    {
      "cell_type": "code",
      "source": [
        "target = pd.DataFrame((PL_cum_portfolio_F+(capital*22))*0.00037828653)"
      ],
      "metadata": {
        "id": "Ne_rUnGoXHAq"
      },
      "execution_count": 158,
      "outputs": []
    },
    {
      "cell_type": "code",
      "source": [
        "downside = pd.DataFrame(PL_daily_portfolio_F).subtract(target)"
      ],
      "metadata": {
        "id": "J8KlKfPTYXqc"
      },
      "execution_count": 159,
      "outputs": []
    },
    {
      "cell_type": "code",
      "source": [
        "downside.loc[downside[0]>0]=0\n",
        "downside[0] = downside[0]**2\n",
        "downside_risk = np.sqrt(np.sum(downside)[0]/len(PL_daily_portfolio_F))"
      ],
      "metadata": {
        "id": "P8ZQl5v2ZEVz"
      },
      "execution_count": 160,
      "outputs": []
    },
    {
      "cell_type": "code",
      "source": [
        "print(\"Portfolio with Kalman Filter, Sortino ratio:\", np.nanmean(PL_daily_portfolio_F)/downside_risk)"
      ],
      "metadata": {
        "colab": {
          "base_uri": "https://localhost:8080/"
        },
        "id": "u8QQOPwgZGv7",
        "outputId": "d29152c0-d2f1-49cc-e424-7bc222534ddb"
      },
      "execution_count": 161,
      "outputs": [
        {
          "output_type": "stream",
          "name": "stdout",
          "text": [
            "Portfolio with Kalman Filter, Sortino ratio: 3.8771610963794334\n"
          ]
        }
      ]
    },
    {
      "cell_type": "code",
      "source": [
        "target = pd.DataFrame((PL_cum_portfolio+(capital*22))*0.00037828653)\n",
        "downside = pd.DataFrame(PL_daily_portfolio).subtract(target)\n",
        "downside.loc[downside[0]>0]=0\n",
        "downside[0] = downside[0]**2\n",
        "downside_risk = np.sqrt(np.sum(downside)[0]/len(PL_daily_portfolio))"
      ],
      "metadata": {
        "id": "1785j52mZhbu"
      },
      "execution_count": 162,
      "outputs": []
    },
    {
      "cell_type": "code",
      "source": [
        "print(\"Portfolio with Kalman Filter, Sortino ratio:\", np.nanmean(PL_daily_portfolio)/downside_risk)"
      ],
      "metadata": {
        "colab": {
          "base_uri": "https://localhost:8080/"
        },
        "id": "wZ7mI8SzZhIT",
        "outputId": "a72f127b-7125-4c0d-e7d2-05584887a086"
      },
      "execution_count": 163,
      "outputs": [
        {
          "output_type": "stream",
          "name": "stdout",
          "text": [
            "Portfolio with Kalman Filter, Sortino ratio: 0.8288186322046165\n"
          ]
        }
      ]
    },
    {
      "cell_type": "code",
      "source": [
        ""
      ],
      "metadata": {
        "id": "D0HB8HoDZQnC"
      },
      "execution_count": null,
      "outputs": []
    },
    {
      "cell_type": "code",
      "source": [
        ""
      ],
      "metadata": {
        "id": "wZuDzNPNZQja"
      },
      "execution_count": null,
      "outputs": []
    },
    {
      "cell_type": "code",
      "source": [
        ""
      ],
      "metadata": {
        "id": "IkNXH98DZQgs"
      },
      "execution_count": null,
      "outputs": []
    },
    {
      "cell_type": "code",
      "source": [
        ""
      ],
      "metadata": {
        "id": "HmjT7bvqZQdo"
      },
      "execution_count": null,
      "outputs": []
    },
    {
      "cell_type": "code",
      "source": [
        ""
      ],
      "metadata": {
        "id": "iW0Xq8upZQX3"
      },
      "execution_count": null,
      "outputs": []
    },
    {
      "cell_type": "code",
      "source": [
        ""
      ],
      "metadata": {
        "id": "ZAz07HnjZQL4"
      },
      "execution_count": null,
      "outputs": []
    },
    {
      "cell_type": "code",
      "source": [
        "downside = pd.DataFrame(PL_daily_portfolio_F)\n",
        "downside = downside-(np.nanmean(PL_daily_portfolio_F))"
      ],
      "metadata": {
        "id": "G0PmznsDRu9g"
      },
      "execution_count": 139,
      "outputs": []
    },
    {
      "cell_type": "code",
      "source": [
        "downside.loc[downside[0]>0]=0\n",
        "downside[0] = downside[0]**2\n",
        "downside_risk = np.sqrt(np.sum(downside)[0]/len(PL_daily_portfolio_F))"
      ],
      "metadata": {
        "id": "LAxAqjZ8R3aX"
      },
      "execution_count": 140,
      "outputs": []
    },
    {
      "cell_type": "code",
      "source": [
        "print(\"Portfolio with Kalman Filter, Sortino ratio:\", np.nanmean(PL_daily_portfolio_F)/downside_risk)"
      ],
      "metadata": {
        "colab": {
          "base_uri": "https://localhost:8080/"
        },
        "id": "zOMKp2EPSCQI",
        "outputId": "ec448311-e092-4b61-f50c-0e5d7fcb573f"
      },
      "execution_count": 141,
      "outputs": [
        {
          "output_type": "stream",
          "name": "stdout",
          "text": [
            "Portfolio with Kalman Filter, Sortino ratio: 1.207096332537901\n"
          ]
        }
      ]
    },
    {
      "cell_type": "code",
      "source": [
        "downside = pd.DataFrame(PL_daily_portfolio)\n",
        "downside = downside-(np.nanmean(PL_daily_portfolio))\n",
        "downside.loc[downside[0]>0]=0\n",
        "downside[0] = downside[0]**2\n",
        "downside_risk = np.sqrt(np.sum(downside)[0]/len(PL_daily_portfolio))"
      ],
      "metadata": {
        "id": "pjq1rfKdSKX6"
      },
      "execution_count": 142,
      "outputs": []
    },
    {
      "cell_type": "code",
      "source": [
        "print(\"Portfolio with Kalman Filter, Sortino ratio:\", np.nanmean(PL_daily_portfolio)/downside_risk)"
      ],
      "metadata": {
        "colab": {
          "base_uri": "https://localhost:8080/"
        },
        "id": "cKiEdK7xSTGK",
        "outputId": "3c183c53-35f0-4d4c-f364-136dd67bda21"
      },
      "execution_count": 143,
      "outputs": [
        {
          "output_type": "stream",
          "name": "stdout",
          "text": [
            "Portfolio with Kalman Filter, Sortino ratio: 0.5766785670363413\n"
          ]
        }
      ]
    },
    {
      "cell_type": "code",
      "source": [
        ""
      ],
      "metadata": {
        "id": "l81GHUXUSSvc"
      },
      "execution_count": null,
      "outputs": []
    },
    {
      "cell_type": "code",
      "source": [
        "downside = pd.DataFrame(PL_daily_portfolio_F)\n",
        "downside.loc[downside[0]>0]=0\n",
        "downside[0] = downside[0]**2\n",
        "downside_risk = np.sqrt(np.sum(downside)[0]/len(PL_daily_portfolio_F))"
      ],
      "metadata": {
        "id": "IEP4K8xyM_8X"
      },
      "execution_count": 136,
      "outputs": []
    },
    {
      "cell_type": "code",
      "source": [
        "print(\"Portfolio with Kalman Filter, Sortino ratio:\", np.nanmean(PL_daily_portfolio_F)/downside_risk)"
      ],
      "metadata": {
        "colab": {
          "base_uri": "https://localhost:8080/"
        },
        "id": "IpaCuQ1vMo5D",
        "outputId": "fce7cd7c-4bfe-44c8-baf9-a092ee3558ca"
      },
      "execution_count": 132,
      "outputs": [
        {
          "output_type": "stream",
          "name": "stdout",
          "text": [
            "Portfolio with Kalman Filter, Sortino ratio: 7.3652719545474294\n"
          ]
        }
      ]
    },
    {
      "cell_type": "code",
      "source": [
        "downside = pd.DataFrame(PL_daily_portfolio)\n",
        "downside.loc[downside[0]>0]=0\n",
        "downside[0] = downside[0]**2\n",
        "downside_risk = np.sqrt(np.sum(downside)[0]/len(PL_daily_portfolio))"
      ],
      "metadata": {
        "id": "yPuoWxvxMo2S"
      },
      "execution_count": 134,
      "outputs": []
    },
    {
      "cell_type": "code",
      "source": [
        "print(\"Portfolio with Kalman Filter, Sortino ratio:\", np.nanmean(PL_daily_portfolio)/downside_risk)"
      ],
      "metadata": {
        "colab": {
          "base_uri": "https://localhost:8080/"
        },
        "id": "6cTedgdAMooM",
        "outputId": "a27f276b-5c97-40ab-b10d-359cead0e04e"
      },
      "execution_count": 135,
      "outputs": [
        {
          "output_type": "stream",
          "name": "stdout",
          "text": [
            "Portfolio with Kalman Filter, Sortino ratio: 0.8572942980077396\n"
          ]
        }
      ]
    },
    {
      "cell_type": "code",
      "source": [
        ""
      ],
      "metadata": {
        "id": "qgEfMtmBLmk1"
      },
      "execution_count": null,
      "outputs": []
    },
    {
      "cell_type": "code",
      "execution_count": 60,
      "metadata": {
        "colab": {
          "base_uri": "https://localhost:8080/",
          "height": 381
        },
        "id": "NqonxZUD-OQc",
        "outputId": "22af97ab-9933-4828-dc59-152c728ba89c"
      },
      "outputs": [
        {
          "output_type": "error",
          "ename": "KeyboardInterrupt",
          "evalue": "ignored",
          "traceback": [
            "\u001b[0;31m---------------------------------------------------------------------------\u001b[0m",
            "\u001b[0;31mKeyboardInterrupt\u001b[0m                         Traceback (most recent call last)",
            "\u001b[0;32m<ipython-input-60-b490df4ca8c0>\u001b[0m in \u001b[0;36m<module>\u001b[0;34m()\u001b[0m\n\u001b[1;32m     15\u001b[0m       \u001b[0mstock_1\u001b[0m \u001b[0;34m=\u001b[0m \u001b[0mcommod\u001b[0m\u001b[0;34m.\u001b[0m\u001b[0mloc\u001b[0m\u001b[0;34m[\u001b[0m\u001b[0;34m\"2009-01-01\"\u001b[0m\u001b[0;34m:\u001b[0m\u001b[0;34m\"2017-12-31\"\u001b[0m\u001b[0;34m]\u001b[0m\u001b[0;34m[\u001b[0m\u001b[0mfinal_pairs\u001b[0m\u001b[0;34m[\u001b[0m\u001b[0;34m'Leg1'\u001b[0m\u001b[0;34m]\u001b[0m\u001b[0;34m[\u001b[0m\u001b[0mi\u001b[0m\u001b[0;34m]\u001b[0m\u001b[0;34m]\u001b[0m\u001b[0;34m\u001b[0m\u001b[0;34m\u001b[0m\u001b[0m\n\u001b[1;32m     16\u001b[0m       \u001b[0mstock_2\u001b[0m \u001b[0;34m=\u001b[0m \u001b[0mcommod\u001b[0m\u001b[0;34m.\u001b[0m\u001b[0mloc\u001b[0m\u001b[0;34m[\u001b[0m\u001b[0;34m\"2009-01-01\"\u001b[0m\u001b[0;34m:\u001b[0m\u001b[0;34m\"2017-12-31\"\u001b[0m\u001b[0;34m]\u001b[0m\u001b[0;34m[\u001b[0m\u001b[0mfinal_pairs\u001b[0m\u001b[0;34m[\u001b[0m\u001b[0;34m'Leg2'\u001b[0m\u001b[0;34m]\u001b[0m\u001b[0;34m[\u001b[0m\u001b[0mi\u001b[0m\u001b[0;34m]\u001b[0m\u001b[0;34m]\u001b[0m\u001b[0;34m\u001b[0m\u001b[0;34m\u001b[0m\u001b[0m\n\u001b[0;32m---> 17\u001b[0;31m       \u001b[0meach_pair\u001b[0m \u001b[0;34m=\u001b[0m \u001b[0mBBTrading\u001b[0m\u001b[0;34m(\u001b[0m\u001b[0mcapital\u001b[0m\u001b[0;34m,\u001b[0m \u001b[0mstock_1\u001b[0m\u001b[0;34m,\u001b[0m \u001b[0mstock_2\u001b[0m\u001b[0;34m,\u001b[0m \u001b[0mt\u001b[0m\u001b[0;34m,\u001b[0m \u001b[0mconst\u001b[0m\u001b[0;34m,\u001b[0m \u001b[0mstop_loss\u001b[0m\u001b[0;34m,\u001b[0m \u001b[0mKF\u001b[0m\u001b[0;34m=\u001b[0m\u001b[0;32mFalse\u001b[0m\u001b[0;34m)\u001b[0m\u001b[0;34m\u001b[0m\u001b[0;34m\u001b[0m\u001b[0m\n\u001b[0m\u001b[1;32m     18\u001b[0m       \u001b[0mPL_daily_ContVal\u001b[0m\u001b[0;34m.\u001b[0m\u001b[0mappend\u001b[0m\u001b[0;34m(\u001b[0m\u001b[0meach_pair\u001b[0m\u001b[0;34m[\u001b[0m\u001b[0;36m0\u001b[0m\u001b[0;34m]\u001b[0m\u001b[0;34m[\u001b[0m\u001b[0;36m3\u001b[0m\u001b[0;34m]\u001b[0m\u001b[0;34m)\u001b[0m\u001b[0;34m\u001b[0m\u001b[0;34m\u001b[0m\u001b[0m\n\u001b[1;32m     19\u001b[0m     \u001b[0mPL_daily_portfolio\u001b[0m\u001b[0;34m.\u001b[0m\u001b[0mappend\u001b[0m\u001b[0;34m(\u001b[0m\u001b[0mnp\u001b[0m\u001b[0;34m.\u001b[0m\u001b[0msum\u001b[0m\u001b[0;34m(\u001b[0m\u001b[0mPL_daily_ContVal\u001b[0m\u001b[0;34m,\u001b[0m \u001b[0maxis\u001b[0m\u001b[0;34m=\u001b[0m\u001b[0;36m0\u001b[0m\u001b[0;34m)\u001b[0m\u001b[0;34m)\u001b[0m\u001b[0;34m\u001b[0m\u001b[0;34m\u001b[0m\u001b[0m\n",
            "\u001b[0;32m<ipython-input-47-f8290eabc6be>\u001b[0m in \u001b[0;36mBBTrading\u001b[0;34m(capital, stock_1, stock_2, t, const, stop_loss, KF)\u001b[0m\n\u001b[1;32m     27\u001b[0m         \u001b[0ma\u001b[0m \u001b[0;34m=\u001b[0m \u001b[0mnp\u001b[0m\u001b[0;34m.\u001b[0m\u001b[0msubtract\u001b[0m\u001b[0;34m(\u001b[0m\u001b[0mstock_1\u001b[0m\u001b[0;34m,\u001b[0m \u001b[0mpredict\u001b[0m\u001b[0;34m)\u001b[0m\u001b[0;34m\u001b[0m\u001b[0;34m\u001b[0m\u001b[0m\n\u001b[1;32m     28\u001b[0m \u001b[0;34m\u001b[0m\u001b[0m\n\u001b[0;32m---> 29\u001b[0;31m     \u001b[0mmv\u001b[0m\u001b[0;34m,\u001b[0m \u001b[0mBB\u001b[0m \u001b[0;34m=\u001b[0m \u001b[0mBBand\u001b[0m\u001b[0;34m(\u001b[0m\u001b[0ma\u001b[0m\u001b[0;34m,\u001b[0m \u001b[0mt\u001b[0m\u001b[0;34m,\u001b[0m \u001b[0mconst\u001b[0m\u001b[0;34m)\u001b[0m \u001b[0;31m# moving average and bollinger band\u001b[0m\u001b[0;34m\u001b[0m\u001b[0;34m\u001b[0m\u001b[0m\n\u001b[0m\u001b[1;32m     30\u001b[0m     \u001b[0mm\u001b[0m \u001b[0;34m=\u001b[0m \u001b[0mnp\u001b[0m\u001b[0;34m.\u001b[0m\u001b[0msize\u001b[0m\u001b[0;34m(\u001b[0m\u001b[0mmv\u001b[0m\u001b[0;34m)\u001b[0m\u001b[0;34m\u001b[0m\u001b[0;34m\u001b[0m\u001b[0m\n\u001b[1;32m     31\u001b[0m     \u001b[0mEntry\u001b[0m \u001b[0;34m=\u001b[0m \u001b[0mnp\u001b[0m\u001b[0;34m.\u001b[0m\u001b[0mzeros\u001b[0m\u001b[0;34m(\u001b[0m\u001b[0mm\u001b[0m\u001b[0;34m-\u001b[0m\u001b[0;36m1\u001b[0m\u001b[0;34m)\u001b[0m \u001b[0;31m# entry signal\u001b[0m\u001b[0;34m\u001b[0m\u001b[0;34m\u001b[0m\u001b[0m\n",
            "\u001b[0;32m<ipython-input-44-1277a8696977>\u001b[0m in \u001b[0;36mBBand\u001b[0;34m(a, t, const)\u001b[0m\n\u001b[1;32m      4\u001b[0m \u001b[0;32mdef\u001b[0m \u001b[0mBBand\u001b[0m\u001b[0;34m(\u001b[0m\u001b[0ma\u001b[0m\u001b[0;34m,\u001b[0m \u001b[0mt\u001b[0m\u001b[0;34m,\u001b[0m \u001b[0mconst\u001b[0m\u001b[0;34m)\u001b[0m\u001b[0;34m:\u001b[0m\u001b[0;34m\u001b[0m\u001b[0;34m\u001b[0m\u001b[0m\n\u001b[1;32m      5\u001b[0m     \u001b[0mBollingerBand\u001b[0m \u001b[0;34m=\u001b[0m \u001b[0;34m[\u001b[0m\u001b[0;34m]\u001b[0m\u001b[0;34m\u001b[0m\u001b[0;34m\u001b[0m\u001b[0m\n\u001b[0;32m----> 6\u001b[0;31m     \u001b[0mmv\u001b[0m\u001b[0;34m,\u001b[0m \u001b[0mstd\u001b[0m \u001b[0;34m=\u001b[0m \u001b[0mMVaverage\u001b[0m\u001b[0;34m(\u001b[0m\u001b[0ma\u001b[0m\u001b[0;34m,\u001b[0m \u001b[0mt\u001b[0m\u001b[0;34m)\u001b[0m\u001b[0;34m\u001b[0m\u001b[0;34m\u001b[0m\u001b[0m\n\u001b[0m\u001b[1;32m      7\u001b[0m     \u001b[0mLowerBand\u001b[0m \u001b[0;34m=\u001b[0m \u001b[0mnp\u001b[0m\u001b[0;34m.\u001b[0m\u001b[0msubtract\u001b[0m\u001b[0;34m(\u001b[0m\u001b[0mmv\u001b[0m\u001b[0;34m,\u001b[0m \u001b[0mconst\u001b[0m\u001b[0;34m*\u001b[0m\u001b[0mstd\u001b[0m\u001b[0;34m)\u001b[0m\u001b[0;34m\u001b[0m\u001b[0;34m\u001b[0m\u001b[0m\n\u001b[1;32m      8\u001b[0m     \u001b[0mUpperBand\u001b[0m \u001b[0;34m=\u001b[0m \u001b[0mnp\u001b[0m\u001b[0;34m.\u001b[0m\u001b[0madd\u001b[0m\u001b[0;34m(\u001b[0m\u001b[0mmv\u001b[0m\u001b[0;34m,\u001b[0m \u001b[0mconst\u001b[0m\u001b[0;34m*\u001b[0m\u001b[0mstd\u001b[0m\u001b[0;34m)\u001b[0m\u001b[0;34m\u001b[0m\u001b[0;34m\u001b[0m\u001b[0m\n",
            "\u001b[0;32m<ipython-input-43-a0ed3d5905d8>\u001b[0m in \u001b[0;36mMVaverage\u001b[0;34m(a, t)\u001b[0m\n\u001b[1;32m      7\u001b[0m     \u001b[0mstd_t\u001b[0m \u001b[0;34m=\u001b[0m \u001b[0mnp\u001b[0m\u001b[0;34m.\u001b[0m\u001b[0mzeros\u001b[0m\u001b[0;34m(\u001b[0m\u001b[0mi\u001b[0m\u001b[0;34m-\u001b[0m\u001b[0mt\u001b[0m\u001b[0;34m+\u001b[0m\u001b[0;36m1\u001b[0m\u001b[0;34m)\u001b[0m \u001b[0;31m# std of data interval with period t\u001b[0m\u001b[0;34m\u001b[0m\u001b[0;34m\u001b[0m\u001b[0m\n\u001b[1;32m      8\u001b[0m     \u001b[0;32mwhile\u001b[0m \u001b[0mi\u001b[0m\u001b[0;34m>\u001b[0m\u001b[0;34m(\u001b[0m\u001b[0mt\u001b[0m\u001b[0;34m-\u001b[0m\u001b[0;36m1\u001b[0m\u001b[0;34m)\u001b[0m\u001b[0;34m:\u001b[0m\u001b[0;34m\u001b[0m\u001b[0;34m\u001b[0m\u001b[0m\n\u001b[0;32m----> 9\u001b[0;31m         \u001b[0mmv_t\u001b[0m\u001b[0;34m[\u001b[0m\u001b[0mj\u001b[0m\u001b[0;34m]\u001b[0m \u001b[0;34m=\u001b[0m \u001b[0mnp\u001b[0m\u001b[0;34m.\u001b[0m\u001b[0mmean\u001b[0m\u001b[0;34m(\u001b[0m\u001b[0ma\u001b[0m\u001b[0;34m[\u001b[0m\u001b[0mj\u001b[0m\u001b[0;34m:\u001b[0m\u001b[0;34m(\u001b[0m\u001b[0mj\u001b[0m\u001b[0;34m+\u001b[0m\u001b[0mt\u001b[0m\u001b[0;34m)\u001b[0m\u001b[0;34m]\u001b[0m\u001b[0;34m)\u001b[0m\u001b[0;34m\u001b[0m\u001b[0;34m\u001b[0m\u001b[0m\n\u001b[0m\u001b[1;32m     10\u001b[0m         \u001b[0mstd_t\u001b[0m\u001b[0;34m[\u001b[0m\u001b[0mj\u001b[0m\u001b[0;34m]\u001b[0m \u001b[0;34m=\u001b[0m \u001b[0mnp\u001b[0m\u001b[0;34m.\u001b[0m\u001b[0mstd\u001b[0m\u001b[0;34m(\u001b[0m\u001b[0ma\u001b[0m\u001b[0;34m[\u001b[0m\u001b[0mj\u001b[0m\u001b[0;34m:\u001b[0m\u001b[0;34m(\u001b[0m\u001b[0mj\u001b[0m\u001b[0;34m+\u001b[0m\u001b[0mt\u001b[0m\u001b[0;34m)\u001b[0m\u001b[0;34m]\u001b[0m\u001b[0;34m)\u001b[0m\u001b[0;34m\u001b[0m\u001b[0;34m\u001b[0m\u001b[0m\n\u001b[1;32m     11\u001b[0m         \u001b[0mj\u001b[0m \u001b[0;34m+=\u001b[0m \u001b[0;36m1\u001b[0m\u001b[0;34m\u001b[0m\u001b[0;34m\u001b[0m\u001b[0m\n",
            "\u001b[0;32m/usr/local/lib/python3.7/dist-packages/pandas/core/series.py\u001b[0m in \u001b[0;36m__getitem__\u001b[0;34m(self, key)\u001b[0m\n\u001b[1;32m    964\u001b[0m             \u001b[0;32mreturn\u001b[0m \u001b[0mself\u001b[0m\u001b[0;34m.\u001b[0m\u001b[0m_get_values\u001b[0m\u001b[0;34m(\u001b[0m\u001b[0mkey\u001b[0m\u001b[0;34m)\u001b[0m\u001b[0;34m\u001b[0m\u001b[0;34m\u001b[0m\u001b[0m\n\u001b[1;32m    965\u001b[0m \u001b[0;34m\u001b[0m\u001b[0m\n\u001b[0;32m--> 966\u001b[0;31m         \u001b[0;32mreturn\u001b[0m \u001b[0mself\u001b[0m\u001b[0;34m.\u001b[0m\u001b[0m_get_with\u001b[0m\u001b[0;34m(\u001b[0m\u001b[0mkey\u001b[0m\u001b[0;34m)\u001b[0m\u001b[0;34m\u001b[0m\u001b[0;34m\u001b[0m\u001b[0m\n\u001b[0m\u001b[1;32m    967\u001b[0m \u001b[0;34m\u001b[0m\u001b[0m\n\u001b[1;32m    968\u001b[0m     \u001b[0;32mdef\u001b[0m \u001b[0m_get_with\u001b[0m\u001b[0;34m(\u001b[0m\u001b[0mself\u001b[0m\u001b[0;34m,\u001b[0m \u001b[0mkey\u001b[0m\u001b[0;34m)\u001b[0m\u001b[0;34m:\u001b[0m\u001b[0;34m\u001b[0m\u001b[0;34m\u001b[0m\u001b[0m\n",
            "\u001b[0;32m/usr/local/lib/python3.7/dist-packages/pandas/core/series.py\u001b[0m in \u001b[0;36m_get_with\u001b[0;34m(self, key)\u001b[0m\n\u001b[1;32m    972\u001b[0m             \u001b[0;31m#  or label based, and if the latter, convert to positional\u001b[0m\u001b[0;34m\u001b[0m\u001b[0;34m\u001b[0m\u001b[0;34m\u001b[0m\u001b[0m\n\u001b[1;32m    973\u001b[0m             \u001b[0mslobj\u001b[0m \u001b[0;34m=\u001b[0m \u001b[0mself\u001b[0m\u001b[0;34m.\u001b[0m\u001b[0mindex\u001b[0m\u001b[0;34m.\u001b[0m\u001b[0m_convert_slice_indexer\u001b[0m\u001b[0;34m(\u001b[0m\u001b[0mkey\u001b[0m\u001b[0;34m,\u001b[0m \u001b[0mkind\u001b[0m\u001b[0;34m=\u001b[0m\u001b[0;34m\"getitem\"\u001b[0m\u001b[0;34m)\u001b[0m\u001b[0;34m\u001b[0m\u001b[0;34m\u001b[0m\u001b[0m\n\u001b[0;32m--> 974\u001b[0;31m             \u001b[0;32mreturn\u001b[0m \u001b[0mself\u001b[0m\u001b[0;34m.\u001b[0m\u001b[0m_slice\u001b[0m\u001b[0;34m(\u001b[0m\u001b[0mslobj\u001b[0m\u001b[0;34m)\u001b[0m\u001b[0;34m\u001b[0m\u001b[0;34m\u001b[0m\u001b[0m\n\u001b[0m\u001b[1;32m    975\u001b[0m         \u001b[0;32melif\u001b[0m \u001b[0misinstance\u001b[0m\u001b[0;34m(\u001b[0m\u001b[0mkey\u001b[0m\u001b[0;34m,\u001b[0m \u001b[0mABCDataFrame\u001b[0m\u001b[0;34m)\u001b[0m\u001b[0;34m:\u001b[0m\u001b[0;34m\u001b[0m\u001b[0;34m\u001b[0m\u001b[0m\n\u001b[1;32m    976\u001b[0m             raise TypeError(\n",
            "\u001b[0;32m/usr/local/lib/python3.7/dist-packages/pandas/core/series.py\u001b[0m in \u001b[0;36m_slice\u001b[0;34m(self, slobj, axis)\u001b[0m\n\u001b[1;32m    924\u001b[0m         \u001b[0;31m# axis kwarg is retained for compat with NDFrame method\u001b[0m\u001b[0;34m\u001b[0m\u001b[0;34m\u001b[0m\u001b[0;34m\u001b[0m\u001b[0m\n\u001b[1;32m    925\u001b[0m         \u001b[0;31m#  _slice is *always* positional\u001b[0m\u001b[0;34m\u001b[0m\u001b[0;34m\u001b[0m\u001b[0;34m\u001b[0m\u001b[0m\n\u001b[0;32m--> 926\u001b[0;31m         \u001b[0;32mreturn\u001b[0m \u001b[0mself\u001b[0m\u001b[0;34m.\u001b[0m\u001b[0m_get_values\u001b[0m\u001b[0;34m(\u001b[0m\u001b[0mslobj\u001b[0m\u001b[0;34m)\u001b[0m\u001b[0;34m\u001b[0m\u001b[0;34m\u001b[0m\u001b[0m\n\u001b[0m\u001b[1;32m    927\u001b[0m \u001b[0;34m\u001b[0m\u001b[0m\n\u001b[1;32m    928\u001b[0m     \u001b[0;32mdef\u001b[0m \u001b[0m__getitem__\u001b[0m\u001b[0;34m(\u001b[0m\u001b[0mself\u001b[0m\u001b[0;34m,\u001b[0m \u001b[0mkey\u001b[0m\u001b[0;34m)\u001b[0m\u001b[0;34m:\u001b[0m\u001b[0;34m\u001b[0m\u001b[0;34m\u001b[0m\u001b[0m\n",
            "\u001b[0;32m/usr/local/lib/python3.7/dist-packages/pandas/core/series.py\u001b[0m in \u001b[0;36m_get_values\u001b[0;34m(self, indexer)\u001b[0m\n\u001b[1;32m   1024\u001b[0m     \u001b[0;32mdef\u001b[0m \u001b[0m_get_values\u001b[0m\u001b[0;34m(\u001b[0m\u001b[0mself\u001b[0m\u001b[0;34m,\u001b[0m \u001b[0mindexer\u001b[0m\u001b[0;34m)\u001b[0m\u001b[0;34m:\u001b[0m\u001b[0;34m\u001b[0m\u001b[0;34m\u001b[0m\u001b[0m\n\u001b[1;32m   1025\u001b[0m         \u001b[0;32mtry\u001b[0m\u001b[0;34m:\u001b[0m\u001b[0;34m\u001b[0m\u001b[0;34m\u001b[0m\u001b[0m\n\u001b[0;32m-> 1026\u001b[0;31m             \u001b[0mnew_mgr\u001b[0m \u001b[0;34m=\u001b[0m \u001b[0mself\u001b[0m\u001b[0;34m.\u001b[0m\u001b[0m_mgr\u001b[0m\u001b[0;34m.\u001b[0m\u001b[0mgetitem_mgr\u001b[0m\u001b[0;34m(\u001b[0m\u001b[0mindexer\u001b[0m\u001b[0;34m)\u001b[0m\u001b[0;34m\u001b[0m\u001b[0;34m\u001b[0m\u001b[0m\n\u001b[0m\u001b[1;32m   1027\u001b[0m             \u001b[0;32mreturn\u001b[0m \u001b[0mself\u001b[0m\u001b[0;34m.\u001b[0m\u001b[0m_constructor\u001b[0m\u001b[0;34m(\u001b[0m\u001b[0mnew_mgr\u001b[0m\u001b[0;34m)\u001b[0m\u001b[0;34m.\u001b[0m\u001b[0m__finalize__\u001b[0m\u001b[0;34m(\u001b[0m\u001b[0mself\u001b[0m\u001b[0;34m)\u001b[0m\u001b[0;34m\u001b[0m\u001b[0;34m\u001b[0m\u001b[0m\n\u001b[1;32m   1028\u001b[0m         \u001b[0;32mexcept\u001b[0m \u001b[0mValueError\u001b[0m\u001b[0;34m:\u001b[0m\u001b[0;34m\u001b[0m\u001b[0;34m\u001b[0m\u001b[0m\n",
            "\u001b[0;32m/usr/local/lib/python3.7/dist-packages/pandas/core/internals/managers.py\u001b[0m in \u001b[0;36mgetitem_mgr\u001b[0;34m(self, indexer)\u001b[0m\n\u001b[1;32m   1642\u001b[0m         \u001b[0mblock\u001b[0m \u001b[0;34m=\u001b[0m \u001b[0mblk\u001b[0m\u001b[0;34m.\u001b[0m\u001b[0mmake_block_same_class\u001b[0m\u001b[0;34m(\u001b[0m\u001b[0marray\u001b[0m\u001b[0;34m,\u001b[0m \u001b[0mplacement\u001b[0m\u001b[0;34m=\u001b[0m\u001b[0mbp\u001b[0m\u001b[0;34m)\u001b[0m\u001b[0;34m\u001b[0m\u001b[0;34m\u001b[0m\u001b[0m\n\u001b[1;32m   1643\u001b[0m \u001b[0;34m\u001b[0m\u001b[0m\n\u001b[0;32m-> 1644\u001b[0;31m         \u001b[0mnew_idx\u001b[0m \u001b[0;34m=\u001b[0m \u001b[0mself\u001b[0m\u001b[0;34m.\u001b[0m\u001b[0mindex\u001b[0m\u001b[0;34m[\u001b[0m\u001b[0mindexer\u001b[0m\u001b[0;34m]\u001b[0m\u001b[0;34m\u001b[0m\u001b[0;34m\u001b[0m\u001b[0m\n\u001b[0m\u001b[1;32m   1645\u001b[0m         \u001b[0;32mreturn\u001b[0m \u001b[0mtype\u001b[0m\u001b[0;34m(\u001b[0m\u001b[0mself\u001b[0m\u001b[0;34m)\u001b[0m\u001b[0;34m(\u001b[0m\u001b[0mblock\u001b[0m\u001b[0;34m,\u001b[0m \u001b[0mnew_idx\u001b[0m\u001b[0;34m)\u001b[0m\u001b[0;34m\u001b[0m\u001b[0;34m\u001b[0m\u001b[0m\n\u001b[1;32m   1646\u001b[0m \u001b[0;34m\u001b[0m\u001b[0m\n",
            "\u001b[0;32m/usr/local/lib/python3.7/dist-packages/pandas/core/indexes/extension.py\u001b[0m in \u001b[0;36m__getitem__\u001b[0;34m(self, key)\u001b[0m\n\u001b[1;32m    280\u001b[0m         \u001b[0;32mif\u001b[0m \u001b[0misinstance\u001b[0m\u001b[0;34m(\u001b[0m\u001b[0mresult\u001b[0m\u001b[0;34m,\u001b[0m \u001b[0mtype\u001b[0m\u001b[0;34m(\u001b[0m\u001b[0mself\u001b[0m\u001b[0;34m.\u001b[0m\u001b[0m_data\u001b[0m\u001b[0;34m)\u001b[0m\u001b[0;34m)\u001b[0m\u001b[0;34m:\u001b[0m\u001b[0;34m\u001b[0m\u001b[0;34m\u001b[0m\u001b[0m\n\u001b[1;32m    281\u001b[0m             \u001b[0;32mif\u001b[0m \u001b[0mresult\u001b[0m\u001b[0;34m.\u001b[0m\u001b[0mndim\u001b[0m \u001b[0;34m==\u001b[0m \u001b[0;36m1\u001b[0m\u001b[0;34m:\u001b[0m\u001b[0;34m\u001b[0m\u001b[0;34m\u001b[0m\u001b[0m\n\u001b[0;32m--> 282\u001b[0;31m                 \u001b[0;32mreturn\u001b[0m \u001b[0mtype\u001b[0m\u001b[0;34m(\u001b[0m\u001b[0mself\u001b[0m\u001b[0;34m)\u001b[0m\u001b[0;34m(\u001b[0m\u001b[0mresult\u001b[0m\u001b[0;34m,\u001b[0m \u001b[0mname\u001b[0m\u001b[0;34m=\u001b[0m\u001b[0mself\u001b[0m\u001b[0;34m.\u001b[0m\u001b[0m_name\u001b[0m\u001b[0;34m)\u001b[0m\u001b[0;34m\u001b[0m\u001b[0;34m\u001b[0m\u001b[0m\n\u001b[0m\u001b[1;32m    283\u001b[0m             \u001b[0;31m# Unpack to ndarray for MPL compat\u001b[0m\u001b[0;34m\u001b[0m\u001b[0;34m\u001b[0m\u001b[0;34m\u001b[0m\u001b[0m\n\u001b[1;32m    284\u001b[0m \u001b[0;34m\u001b[0m\u001b[0m\n",
            "\u001b[0;32m/usr/local/lib/python3.7/dist-packages/pandas/core/indexes/datetimes.py\u001b[0m in \u001b[0;36m__new__\u001b[0;34m(cls, data, freq, tz, normalize, closed, ambiguous, dayfirst, yearfirst, dtype, copy, name)\u001b[0m\n\u001b[1;32m    339\u001b[0m             \u001b[0mdayfirst\u001b[0m\u001b[0;34m=\u001b[0m\u001b[0mdayfirst\u001b[0m\u001b[0;34m,\u001b[0m\u001b[0;34m\u001b[0m\u001b[0;34m\u001b[0m\u001b[0m\n\u001b[1;32m    340\u001b[0m             \u001b[0myearfirst\u001b[0m\u001b[0;34m=\u001b[0m\u001b[0myearfirst\u001b[0m\u001b[0;34m,\u001b[0m\u001b[0;34m\u001b[0m\u001b[0;34m\u001b[0m\u001b[0m\n\u001b[0;32m--> 341\u001b[0;31m             \u001b[0mambiguous\u001b[0m\u001b[0;34m=\u001b[0m\u001b[0mambiguous\u001b[0m\u001b[0;34m,\u001b[0m\u001b[0;34m\u001b[0m\u001b[0;34m\u001b[0m\u001b[0m\n\u001b[0m\u001b[1;32m    342\u001b[0m         )\n\u001b[1;32m    343\u001b[0m \u001b[0;34m\u001b[0m\u001b[0m\n",
            "\u001b[0;32m/usr/local/lib/python3.7/dist-packages/pandas/core/arrays/datetimes.py\u001b[0m in \u001b[0;36m_from_sequence_not_strict\u001b[0;34m(cls, data, dtype, copy, tz, freq, dayfirst, yearfirst, ambiguous)\u001b[0m\n\u001b[1;32m    360\u001b[0m             \u001b[0mdayfirst\u001b[0m\u001b[0;34m=\u001b[0m\u001b[0mdayfirst\u001b[0m\u001b[0;34m,\u001b[0m\u001b[0;34m\u001b[0m\u001b[0;34m\u001b[0m\u001b[0m\n\u001b[1;32m    361\u001b[0m             \u001b[0myearfirst\u001b[0m\u001b[0;34m=\u001b[0m\u001b[0myearfirst\u001b[0m\u001b[0;34m,\u001b[0m\u001b[0;34m\u001b[0m\u001b[0;34m\u001b[0m\u001b[0m\n\u001b[0;32m--> 362\u001b[0;31m             \u001b[0mambiguous\u001b[0m\u001b[0;34m=\u001b[0m\u001b[0mambiguous\u001b[0m\u001b[0;34m,\u001b[0m\u001b[0;34m\u001b[0m\u001b[0;34m\u001b[0m\u001b[0m\n\u001b[0m\u001b[1;32m    363\u001b[0m         )\n\u001b[1;32m    364\u001b[0m \u001b[0;34m\u001b[0m\u001b[0m\n",
            "\u001b[0;32m/usr/local/lib/python3.7/dist-packages/pandas/core/arrays/datetimes.py\u001b[0m in \u001b[0;36msequence_to_dt64ns\u001b[0;34m(data, dtype, copy, tz, dayfirst, yearfirst, ambiguous, allow_object, allow_mixed, require_iso8601)\u001b[0m\n\u001b[1;32m   2042\u001b[0m \u001b[0;34m\u001b[0m\u001b[0m\n\u001b[1;32m   2043\u001b[0m     \u001b[0;31m# By this point we are assured to have either a numpy array or Index\u001b[0m\u001b[0;34m\u001b[0m\u001b[0;34m\u001b[0m\u001b[0;34m\u001b[0m\u001b[0m\n\u001b[0;32m-> 2044\u001b[0;31m     \u001b[0mdata\u001b[0m\u001b[0;34m,\u001b[0m \u001b[0mcopy\u001b[0m \u001b[0;34m=\u001b[0m \u001b[0mmaybe_convert_dtype\u001b[0m\u001b[0;34m(\u001b[0m\u001b[0mdata\u001b[0m\u001b[0;34m,\u001b[0m \u001b[0mcopy\u001b[0m\u001b[0;34m)\u001b[0m\u001b[0;34m\u001b[0m\u001b[0;34m\u001b[0m\u001b[0m\n\u001b[0m\u001b[1;32m   2045\u001b[0m     \u001b[0mdata_dtype\u001b[0m \u001b[0;34m=\u001b[0m \u001b[0mgetattr\u001b[0m\u001b[0;34m(\u001b[0m\u001b[0mdata\u001b[0m\u001b[0;34m,\u001b[0m \u001b[0;34m\"dtype\"\u001b[0m\u001b[0;34m,\u001b[0m \u001b[0;32mNone\u001b[0m\u001b[0;34m)\u001b[0m\u001b[0;34m\u001b[0m\u001b[0;34m\u001b[0m\u001b[0m\n\u001b[1;32m   2046\u001b[0m \u001b[0;34m\u001b[0m\u001b[0m\n",
            "\u001b[0;32m/usr/local/lib/python3.7/dist-packages/pandas/core/arrays/datetimes.py\u001b[0m in \u001b[0;36mmaybe_convert_dtype\u001b[0;34m(data, copy)\u001b[0m\n\u001b[1;32m   2241\u001b[0m     \u001b[0mTypeError\u001b[0m \u001b[0;34m:\u001b[0m \u001b[0mPeriodDType\u001b[0m \u001b[0mdata\u001b[0m \u001b[0;32mis\u001b[0m \u001b[0mpassed\u001b[0m\u001b[0;34m\u001b[0m\u001b[0;34m\u001b[0m\u001b[0m\n\u001b[1;32m   2242\u001b[0m     \"\"\"\n\u001b[0;32m-> 2243\u001b[0;31m     \u001b[0;32mif\u001b[0m \u001b[0;32mnot\u001b[0m \u001b[0mhasattr\u001b[0m\u001b[0;34m(\u001b[0m\u001b[0mdata\u001b[0m\u001b[0;34m,\u001b[0m \u001b[0;34m\"dtype\"\u001b[0m\u001b[0;34m)\u001b[0m\u001b[0;34m:\u001b[0m\u001b[0;34m\u001b[0m\u001b[0;34m\u001b[0m\u001b[0m\n\u001b[0m\u001b[1;32m   2244\u001b[0m         \u001b[0;31m# e.g. collections.deque\u001b[0m\u001b[0;34m\u001b[0m\u001b[0;34m\u001b[0m\u001b[0;34m\u001b[0m\u001b[0m\n\u001b[1;32m   2245\u001b[0m         \u001b[0;32mreturn\u001b[0m \u001b[0mdata\u001b[0m\u001b[0;34m,\u001b[0m \u001b[0mcopy\u001b[0m\u001b[0;34m\u001b[0m\u001b[0;34m\u001b[0m\u001b[0m\n",
            "\u001b[0;31mKeyboardInterrupt\u001b[0m: "
          ]
        }
      ],
      "source": [
        "best_t =0\n",
        "best_j = 0\n",
        "best_sharpe = 0\n",
        "for i in range(1, 253,10):\n",
        "  for j in range(10,25,5):\n",
        "    t = i\n",
        "    const = j/10\n",
        "    stop_loss = 0.05\n",
        "    capital = 1000000\n",
        "\n",
        "    PL_daily_portfolio=[]\n",
        "\n",
        "    PL_daily_ContVal =[]\n",
        "    for i in range(len(final_pairs)):\n",
        "      stock_1 = commod.loc[\"2009-01-01\":\"2017-12-31\"][final_pairs['Leg1'][i]]\n",
        "      stock_2 = commod.loc[\"2009-01-01\":\"2017-12-31\"][final_pairs['Leg2'][i]]\n",
        "      each_pair = BBTrading(capital, stock_1, stock_2, t, const, stop_loss, KF=False)\n",
        "      PL_daily_ContVal.append(each_pair[0][3])\n",
        "    PL_daily_portfolio.append(np.sum(PL_daily_ContVal, axis=0))\n",
        "\n",
        "    PL_daily_portfolio = list(itertools.chain.from_iterable(PL_daily_portfolio))\n",
        "    PL_cum_portfolio = np.zeros(np.size(PL_daily_portfolio))\n",
        "\n",
        "    for i in range(np.size(PL_daily_portfolio)):\n",
        "      if i==0:\n",
        "        PL_cum_portfolio[i] = PL_daily_portfolio[i]\n",
        "      else:\n",
        "        PL_cum_portfolio[i] = PL_cum_portfolio[i-1] + PL_daily_portfolio[i]\n",
        "    maxdd_portfolio = MaxDrawdown(PL_cum_portfolio)\n",
        "\n",
        "    PL_daily_portfolio_F=[]\n",
        "    PL_daily_ContVal_F =[]\n",
        "    for i in range(len(final_pairs)):\n",
        "      stock_1 = commod.loc[\"2018-01-01\":\"2022-04-29\"][final_pairs['Leg1'][i]]\n",
        "      stock_2 = commod.loc[\"2018-01-01\":\"2022-04-29\"][final_pairs['Leg2'][i]]\n",
        "      each_pair = BBTrading(capital, stock_1, stock_2, t, const, stop_loss, KF=True)\n",
        "      PL_daily_ContVal_F.append(each_pair[0][3])\n",
        "    PL_daily_portfolio_F.append(np.sum(PL_daily_ContVal_F, axis=0))\n",
        "    PL_daily_portfolio_F = list(itertools.chain.from_iterable(PL_daily_portfolio_F))\n",
        "    PL_cum_portfolio_F = np.zeros(np.size(PL_daily_portfolio_F))\n",
        "\n",
        "    for i in range(np.size(PL_daily_portfolio_F)):\n",
        "      if i==0:\n",
        "        PL_cum_portfolio_F[i] = PL_daily_portfolio_F[i]\n",
        "      else:\n",
        "        PL_cum_portfolio_F[i] = PL_cum_portfolio_F[i-1] + PL_daily_portfolio_F[i]\n",
        "    maxdd_portfolio_F = MaxDrawdown(PL_cum_portfolio_F)\n",
        "\n",
        "    sharpe = np.nanmean(PL_daily_portfolio_F)/np.nanstd(PL_daily_portfolio_F)\n",
        "\n",
        "    if sharpe>best_sharpe:\n",
        "      best_t = i\n",
        "      best_i = j\n",
        "      best_sharpe = sharpe\n",
        "      "
      ]
    },
    {
      "cell_type": "code",
      "execution_count": null,
      "metadata": {
        "id": "HckE74BbCI2O"
      },
      "outputs": [],
      "source": [
        "best_i"
      ]
    },
    {
      "cell_type": "code",
      "source": [
        "best_j"
      ],
      "metadata": {
        "id": "anavHo9IASR4"
      },
      "execution_count": null,
      "outputs": []
    },
    {
      "cell_type": "code",
      "execution_count": null,
      "metadata": {
        "id": "qMYhHYInCHPn"
      },
      "outputs": [],
      "source": [
        "best_sharpe"
      ]
    },
    {
      "cell_type": "code",
      "execution_count": null,
      "metadata": {
        "id": "wYF_m2spm2Fc"
      },
      "outputs": [],
      "source": [
        ""
      ]
    },
    {
      "cell_type": "code",
      "execution_count": null,
      "metadata": {
        "id": "QPISrnPz93VC"
      },
      "outputs": [],
      "source": [
        ""
      ]
    },
    {
      "cell_type": "code",
      "execution_count": null,
      "metadata": {
        "id": "oXldCbInm2Cn"
      },
      "outputs": [],
      "source": [
        "plt.plot(PL_daily_portfolio_F)"
      ]
    },
    {
      "cell_type": "code",
      "execution_count": null,
      "metadata": {
        "id": "WOGWGBDSm180"
      },
      "outputs": [],
      "source": [
        ""
      ]
    },
    {
      "cell_type": "code",
      "execution_count": null,
      "metadata": {
        "id": "toszgO0wlgzd"
      },
      "outputs": [],
      "source": [
        ""
      ]
    }
  ],
  "metadata": {
    "colab": {
      "collapsed_sections": [],
      "name": "Kalman_Filter_update_.ipynb",
      "provenance": []
    },
    "kernelspec": {
      "display_name": "Python 3 (ipykernel)",
      "language": "python",
      "name": "python3"
    },
    "language_info": {
      "codemirror_mode": {
        "name": "ipython",
        "version": 3
      },
      "file_extension": ".py",
      "mimetype": "text/x-python",
      "name": "python",
      "nbconvert_exporter": "python",
      "pygments_lexer": "ipython3",
      "version": "3.9.7"
    }
  },
  "nbformat": 4,
  "nbformat_minor": 0
}